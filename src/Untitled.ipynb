{
 "cells": [
  {
   "cell_type": "code",
   "execution_count": 1,
   "metadata": {},
   "outputs": [],
   "source": [
    "from chordchoice import *"
   ]
  },
  {
   "cell_type": "code",
   "execution_count": null,
   "metadata": {},
   "outputs": [
    {
     "name": "stdout",
     "output_type": "stream",
     "text": [
      "Choose your own harmonic adventure...\n",
      "Choose a tonic:\n",
      "(0) G (1) Ab (2) A (3) Bb (4) B (5) C (6) C# (7) D (8) Eb (9) E (10) F (11) F#\n",
      ">>> 4\n",
      "You chose B\n",
      "Choose a mode:\n",
      "(0) ionian (1) dorian (2) phrygian (3) lydian (4) mixolydian (5) aeolian (6) locrian\n",
      ">>> 3\n",
      "You chose lydian\n",
      "Your mode is B lydian\n",
      "Global commands: (0) Show Global Commands\n",
      "                 (1) Show harmonic sequence structure\n",
      "                 (2) Undo\n",
      "                 (3) Play sequence\n",
      "                 (4) Show notation\n",
      "Sequence:  I\n",
      "Next option(s):  (5) I (6) iii (7) vi6 (8) ivo#6#4 (9) II (10) V64 (11) vii6\n",
      ">>> 5\n",
      "Sequence:  I, I\n",
      "Next option(s):  (5) I (6) iii (7) vi6 (8) ivo#6#4 (9) II (10) V64 (11) vii6\n",
      ">>> 5\n",
      "Sequence:  I, I, I\n",
      "Next option(s):  (5) I (6) iii (7) vi6 (8) ivo#6#4 (9) II (10) V64 (11) vii6\n",
      ">>> 7\n",
      "Sequence:  I, I, I, vi6\n",
      "Next option(s):  (5) vi6 (6) ivo#6#4 (7) II (8) V64 (9) vii6 (10) I\n",
      ">>> 56\n",
      "Invalid index. Try again.\n",
      ">>> 3\n"
     ]
    },
    {
     "data": {
      "text/html": [
       "\n",
       "                <div id='midiPlayerDiv14'></div>\n",
       "                <link rel=\"stylesheet\" href=\"//cuthbertLab.github.io/music21j/css/m21.css\"\n",
       "                    type=\"text/css\" />\n",
       "                <script>\n",
       "                require.config({\n",
       "                    paths: {'music21': '//cuthbertLab.github.io/music21j/src/music21'}\n",
       "                });\n",
       "                require(['music21'], function() {\n",
       "                               mp = new music21.miditools.MidiPlayer();\n",
       "                               mp.addPlayer('#midiPlayerDiv14');\n",
       "                               mp.base64Load('data:audio/midi;base64,TVRoZAAAAAYAAQABBABNVHJrAAAAPwD/AwAA4ABAAJBHWgCQS1oAkE5amACARwAAgEsAAIBOAACQUFoAkEdaAJBLWogAgFAAAIBHAACASwCIAP8vAA==');\n",
       "                        });\n",
       "                </script>"
      ],
      "text/plain": [
       "<IPython.core.display.HTML object>"
      ]
     },
     "metadata": {},
     "output_type": "display_data"
    },
    {
     "name": "stdout",
     "output_type": "stream",
     "text": [
      "Sequence:  I, I, I, vi6\n",
      "Next option(s):  (5) vi6 (6) ivo#6#4 (7) II (8) V64 (9) vii6 (10) I\n",
      ">>> 8\n",
      "Sequence:  I, I, I, vi6, V64\n",
      "Next option(s):  (5) V64 (6) vii6 (7) I (8) vi6\n",
      ">>> 3\n"
     ]
    },
    {
     "data": {
      "text/html": [
       "\n",
       "                <div id='midiPlayerDiv36'></div>\n",
       "                <link rel=\"stylesheet\" href=\"//cuthbertLab.github.io/music21j/css/m21.css\"\n",
       "                    type=\"text/css\" />\n",
       "                <script>\n",
       "                require.config({\n",
       "                    paths: {'music21': '//cuthbertLab.github.io/music21j/src/music21'}\n",
       "                });\n",
       "                require(['music21'], function() {\n",
       "                               mp = new music21.miditools.MidiPlayer();\n",
       "                               mp.addPlayer('#midiPlayerDiv36');\n",
       "                               mp.base64Load('data:audio/midi;base64,TVRoZAAAAAYAAQABBABNVHJrAAAAWAD/AwAA4ABAAJBHWgCQS1oAkE5amACARwAAgEsAAIBOAACQUFoAkEdaAJBLWogAgFAAAIBHAACASwAAkE5aAJBSWgCQSVqIAIBOAACAUgAAgEkAiAD/LwA=');\n",
       "                        });\n",
       "                </script>"
      ],
      "text/plain": [
       "<IPython.core.display.HTML object>"
      ]
     },
     "metadata": {},
     "output_type": "display_data"
    },
    {
     "name": "stdout",
     "output_type": "stream",
     "text": [
      "Sequence:  I, I, I, vi6, V64\n",
      "Next option(s):  (5) V64 (6) vii6 (7) I (8) vi6\n",
      ">>> 7\n",
      "Sequence:  I, I, I, vi6, V64, I\n",
      "Next option(s):  (5) I (6) iii (7) vi6 (8) ivo#6#4 (9) II (10) V64 (11) vii6\n",
      ">>> 3\n"
     ]
    },
    {
     "data": {
      "text/html": [
       "\n",
       "                <div id='midiPlayerDiv65'></div>\n",
       "                <link rel=\"stylesheet\" href=\"//cuthbertLab.github.io/music21j/css/m21.css\"\n",
       "                    type=\"text/css\" />\n",
       "                <script>\n",
       "                require.config({\n",
       "                    paths: {'music21': '//cuthbertLab.github.io/music21j/src/music21'}\n",
       "                });\n",
       "                require(['music21'], function() {\n",
       "                               mp = new music21.miditools.MidiPlayer();\n",
       "                               mp.addPlayer('#midiPlayerDiv65');\n",
       "                               mp.base64Load('data:audio/midi;base64,TVRoZAAAAAYAAQABBABNVHJrAAAAcgD/AwAA4ABAAJBHWgCQS1oAkE5aiACARwAAgEsAAIBOAJAAkFBaAJBHWgCQS1qIAIBQAACARwAAgEsAAJBOWgCQUloAkElaiACATgAAgFIAAIBJAACQR1oAkEtaAJBOWogAgEcAAIBLAACATgCIAP8vAA==');\n",
       "                        });\n",
       "                </script>"
      ],
      "text/plain": [
       "<IPython.core.display.HTML object>"
      ]
     },
     "metadata": {},
     "output_type": "display_data"
    },
    {
     "name": "stdout",
     "output_type": "stream",
     "text": [
      "Sequence:  I, I, I, vi6, V64, I\n",
      "Next option(s):  (5) I (6) iii (7) vi6 (8) ivo#6#4 (9) II (10) V64 (11) vii6\n",
      ">>> 9\n",
      "Sequence:  I, I, I, vi6, V64, I, II\n",
      "Next option(s):  (5) II (6) V64 (7) vii6 (8) I (9) vi6\n",
      ">>> 3\n"
     ]
    },
    {
     "data": {
      "text/html": [
       "\n",
       "                <div id='midiPlayerDiv101'></div>\n",
       "                <link rel=\"stylesheet\" href=\"//cuthbertLab.github.io/music21j/css/m21.css\"\n",
       "                    type=\"text/css\" />\n",
       "                <script>\n",
       "                require.config({\n",
       "                    paths: {'music21': '//cuthbertLab.github.io/music21j/src/music21'}\n",
       "                });\n",
       "                require(['music21'], function() {\n",
       "                               mp = new music21.miditools.MidiPlayer();\n",
       "                               mp.addPlayer('#midiPlayerDiv101');\n",
       "                               mp.base64Load('data:audio/midi;base64,TVRoZAAAAAYAAQABBABNVHJrAAAAiwD/AwAA4ABAAJBHWgCQS1oAkE5aiACARwAAgEsAAIBOAJAAkFBaAJBHWgCQS1qIAIBQAACARwAAgEsAAJBOWgCQUloAkElaiACATgAAgFIAAIBJAACQR1oAkEtaAJBOWogAgEcAAIBLAACATgAAkElaAJBNWgCQUFqIAIBJAACATQAAgFAAiAD/LwA=');\n",
       "                        });\n",
       "                </script>"
      ],
      "text/plain": [
       "<IPython.core.display.HTML object>"
      ]
     },
     "metadata": {},
     "output_type": "display_data"
    },
    {
     "name": "stdout",
     "output_type": "stream",
     "text": [
      "Sequence:  I, I, I, vi6, V64, I, II\n",
      "Next option(s):  (5) II (6) V64 (7) vii6 (8) I (9) vi6\n",
      ">>> 4\n"
     ]
    },
    {
     "data": {
      "image/png": "[encoded data removed]",
      "text/plain": [
       "<IPython.core.display.Image object>"
      ]
     },
     "metadata": {
      "image/png": {
       "height": 155,
       "width": 748
      }
     },
     "output_type": "display_data"
    },
    {
     "name": "stdout",
     "output_type": "stream",
     "text": [
      "Sequence:  I, I, I, vi6, V64, I, II\n",
      "Next option(s):  (5) II (6) V64 (7) vii6 (8) I (9) vi6\n"
     ]
    }
   ],
   "source": [
    "main()"
   ]
  },
  {
   "cell_type": "code",
   "execution_count": null,
   "metadata": {},
   "outputs": [],
   "source": [
    "from music21 import *"
   ]
  },
  {
   "cell_type": "code",
   "execution_count": null,
   "metadata": {},
   "outputs": [],
   "source": [
    "c = note.Note('C4')"
   ]
  },
  {
   "cell_type": "code",
   "execution_count": null,
   "metadata": {},
   "outputs": [],
   "source": [
    "c.show()"
   ]
  },
  {
   "cell_type": "code",
   "execution_count": null,
   "metadata": {},
   "outputs": [],
   "source": [
    "c.show('midi')"
   ]
  },
  {
   "cell_type": "code",
   "execution_count": null,
   "metadata": {},
   "outputs": [],
   "source": [
    "c.show('midi')"
   ]
  },
  {
   "cell_type": "code",
   "execution_count": null,
   "metadata": {},
   "outputs": [],
   "source": []
  }
 ],
 "metadata": {
  "kernelspec": {
   "display_name": "Python 3",
   "language": "python",
   "name": "python3"
  },
  "language_info": {
   "codemirror_mode": {
    "name": "ipython",
    "version": 3
   },
   "file_extension": ".py",
   "mimetype": "text/x-python",
   "name": "python",
   "nbconvert_exporter": "python",
   "pygments_lexer": "ipython3",
   "version": "3.7.0"
  }
 },
 "nbformat": 4,
 "nbformat_minor": 2
}
