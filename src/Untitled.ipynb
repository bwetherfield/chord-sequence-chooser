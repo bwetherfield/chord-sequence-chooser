{
 "cells": [
  {
   "cell_type": "code",
   "execution_count": 1,
   "metadata": {},
   "outputs": [],
   "source": [
    "import chordchoice"
   ]
  },
  {
   "cell_type": "code",
   "execution_count": null,
   "metadata": {},
   "outputs": [
    {
     "name": "stdout",
     "output_type": "stream",
     "text": [
      "Choose your own harmonic adventure...\n",
      "Choose a tonic:\n",
      "(0) G (1) Ab (2) A (3) Bb (4) B (5) C (6) C# (7) D (8) Eb (9) E (10) F (11) F#\n",
      ">>> 2\n",
      "You chose A\n",
      "Choose a mode:\n",
      "(0) ionian (1) dorian (2) phrygian (3) lydian (4) mixolydian (5) aeolian (6) locrian\n",
      ">>> 2\n",
      "You chose phrygian\n",
      "Your mode is A phrygian\n",
      "Global commands: (0) Show Global Commands\n",
      "                 (1) Show harmonic sequence structure\n",
      "                 (2) Undo\n",
      "                 (3) Output midi\n",
      "Sequence:  i\n",
      "Next option(s):  (4) i (5) III (6) VI6 (7) iv64 (8) II (9) vob864 (10) vii6\n",
      ">>> 3\n",
      "Sequence:  i\n",
      "Next option(s):  (4) i (5) III (6) VI6 (7) iv64 (8) II (9) vob864 (10) vii6\n"
     ]
    }
   ],
   "source": [
    "chordchoice.main()"
   ]
  },
  {
   "cell_type": "code",
   "execution_count": null,
   "metadata": {},
   "outputs": [],
   "source": []
  }
 ],
 "metadata": {
  "kernelspec": {
   "display_name": "Python 3",
   "language": "python",
   "name": "python3"
  },
  "language_info": {
   "codemirror_mode": {
    "name": "ipython",
    "version": 3
   },
   "file_extension": ".py",
   "mimetype": "text/x-python",
   "name": "python",
   "nbconvert_exporter": "python",
   "pygments_lexer": "ipython3",
   "version": "3.7.0"
  }
 },
 "nbformat": 4,
 "nbformat_minor": 2
}
